{
  "nbformat": 4,
  "nbformat_minor": 0,
  "metadata": {
    "colab": {
      "name": "Cement.ipynb",
      "provenance": [],
      "collapsed_sections": [],
      "authorship_tag": "ABX9TyNGOhi3ekSH1jMfePEalEON",
      "include_colab_link": true
    },
    "kernelspec": {
      "name": "python3",
      "display_name": "Python 3"
    },
    "language_info": {
      "name": "python"
    }
  },
  "cells": [
    {
      "cell_type": "markdown",
      "metadata": {
        "id": "view-in-github",
        "colab_type": "text"
      },
      "source": [
        "<a href=\"https://colab.research.google.com/github/yuvraj-singh/Codes/blob/master/Cement_Problem.ipynb\" target=\"_parent\"><img src=\"https://colab.research.google.com/assets/colab-badge.svg\" alt=\"Open In Colab\"/></a>"
      ]
    },
    {
      "cell_type": "markdown",
      "metadata": {
        "id": "EFbNDqk109Y0"
      },
      "source": [
        "##Problem Description:\n",
        "\n",
        "Concrete is the most important material in civil engineering. The concrete compressive strength is a highly nonlinear function of age and ingredients. “Concrete compressive strength” is the dependent variable, which needs to be predicted based on the below independent variables.\n",
        "\n",
        "###Dataset: \n",
        "Training and Test Dataset is provided in the below link:\n",
        "\n",
        "https://github.com/yuvraj-singh/Codes/blob/master/Building_Strength_Train.csv\n",
        "\n",
        "https://github.com/yuvraj-singh/Codes/blob/master/Building_Strength_Test.csv\n",
        "\n",
        "\n",
        "###Independent Variables:\n",
        "\n",
        "· Cement (component 1) -- kg in a m3 mixture\n",
        "\n",
        "· Blast Furnace Slag (component 2) -- kg in a m3 mixture\n",
        "\n",
        "· Fly Ash (component 3) - kg in a m3 mixture\n",
        "\n",
        "· Water (component 4) -- kg in a m3 mixture\n",
        "\n",
        "· Superplasticizer (component 5) -- kg in a m3 mixture\n",
        "\n",
        "· Coarse Aggregate (component 6) -- kg in a m3 mixture\n",
        "\n",
        "· Fine Aggregate (component 7) -- kg in a m3 mixture\n",
        "\n",
        "· Age -- Day (1~365)\n",
        "\n",
        "###Dependent Variable:\n",
        "\n",
        "· Concrete compressive strength -- MPa"
      ]
    },
    {
      "cell_type": "code",
      "metadata": {
        "id": "-IBld1t5d6eY"
      },
      "source": [
        "#importing libraries\n",
        "import pandas as pd\n",
        "import numpy as np\n",
        "from sklearn.linear_model import LinearRegression\n",
        "from sklearn.metrics import mean_squared_error\n",
        "from sklearn.ensemble import RandomForestRegressor\n",
        "from sklearn.ensemble import GradientBoostingRegressor"
      ],
      "execution_count": 2,
      "outputs": []
    },
    {
      "cell_type": "code",
      "metadata": {
        "id": "vuqjHVw-e9gV"
      },
      "source": [
        "#Loading training data\n",
        "train_data = pd.read_csv(\"Building_Strength_Train.csv\")\n",
        "test_data = pd.read_csv(\"Building_Strength_Test.csv\")"
      ],
      "execution_count": 3,
      "outputs": []
    },
    {
      "cell_type": "code",
      "metadata": {
        "id": "tOa7Xip0kE0m"
      },
      "source": [
        "#Splitting the train dataset into dependent and independent variables\n",
        "x = train_data.drop(['csMPa'], axis=1)\n",
        "y = train_data['csMPa']"
      ],
      "execution_count": 11,
      "outputs": []
    },
    {
      "cell_type": "code",
      "metadata": {
        "id": "jGo3kjSBLCoC"
      },
      "source": [
        "# Splitting training dastaset into test and train data\n",
        "from sklearn.model_selection import train_test_split\n",
        "xtrain,xtest,ytrain,ytest= train_test_split(x,y,test_size=0.3,random_state=42)"
      ],
      "execution_count": 12,
      "outputs": []
    },
    {
      "cell_type": "code",
      "metadata": {
        "id": "bQlxQM-8LG7u"
      },
      "source": [
        "# Standardizing the data \n",
        "from sklearn.preprocessing import StandardScaler\n",
        "stand= StandardScaler()\n",
        "Fit = stand.fit(xtrain)\n",
        "xtrain_scl = Fit.transform(xtrain)\n",
        "xtest_scl = Fit.transform(xtest)"
      ],
      "execution_count": 13,
      "outputs": []
    },
    {
      "cell_type": "code",
      "metadata": {
        "id": "d53m7dImLfej",
        "colab": {
          "base_uri": "https://localhost:8080/"
        },
        "outputId": "26b416aa-1588-49cd-eacf-d165abcd2f4c"
      },
      "source": [
        "# Applying Linear regression model\n",
        "lr=LinearRegression()\n",
        "fit=lr.fit(xtrain_scl,ytrain)\n",
        "print('score is:-',lr.score(xtest_scl,ytest))\n",
        "print('........................................')\n",
        "print('mean_sqrd_error is==',mean_squared_error(ytest,lr.predict(xtest_scl)))\n",
        "print('root_mean_squared error of is==',np.sqrt(mean_squared_error(ytest,lr.predict(xtest_scl))))"
      ],
      "execution_count": 14,
      "outputs": [
        {
          "output_type": "stream",
          "name": "stdout",
          "text": [
            "score is:- 0.5728903389284451\n",
            "........................................\n",
            "mean_sqrd_error is== 132.8903348236684\n",
            "root_mean_squared error of is== 11.527807025781982\n"
          ]
        }
      ]
    },
    {
      "cell_type": "code",
      "metadata": {
        "colab": {
          "base_uri": "https://localhost:8080/"
        },
        "id": "0Z48ESJgMx_0",
        "outputId": "1923ef76-0e3b-4a0f-ed44-2c7bf9f5f028"
      },
      "source": [
        "# Applying Random Forest regressor\n",
        "rnd= RandomForestRegressor()\n",
        "fit_rnd= rnd.fit(xtrain_scl,ytrain)\n",
        "print('score is:-',rnd.score(xtest_scl,ytest))\n",
        "print('........................................')\n",
        "print('mean_sqrd_error is==',mean_squared_error(ytest,rnd.predict(xtest_scl)))\n",
        "print('root_mean_squared error of is==',np.sqrt(mean_squared_error(ytest,rnd.predict(xtest_scl))))"
      ],
      "execution_count": 15,
      "outputs": [
        {
          "output_type": "stream",
          "name": "stdout",
          "text": [
            "score is:- 0.8779022034772392\n",
            "........................................\n",
            "mean_sqrd_error is== 37.98934685868297\n",
            "root_mean_squared error of is== 6.163549858537933\n"
          ]
        }
      ]
    },
    {
      "cell_type": "code",
      "metadata": {
        "colab": {
          "base_uri": "https://localhost:8080/"
        },
        "id": "K9F1M_biaaee",
        "outputId": "9811a535-70be-47a3-ed94-496c4902726b"
      },
      "source": [
        "# Applying Gradient Boosting regressor\n",
        "xgb= GradientBoostingRegressor()\n",
        "fit_xgb= xgb.fit(xtrain_scl,ytrain)\n",
        "print('score is:-',xgb.score(xtest_scl,ytest))\n",
        "print('........................................')\n",
        "print('mean_sqrd_error is==',mean_squared_error(ytest,xgb.predict(xtest_scl)))\n",
        "print('root_mean_squared error of is==',np.sqrt(mean_squared_error(ytest,xgb.predict(xtest_scl))))"
      ],
      "execution_count": 16,
      "outputs": [
        {
          "output_type": "stream",
          "name": "stdout",
          "text": [
            "score is:- 0.9047707015801881\n",
            "........................................\n",
            "mean_sqrd_error is== 29.629517909480626\n",
            "root_mean_squared error of is== 5.443300277357536\n"
          ]
        }
      ]
    },
    {
      "cell_type": "markdown",
      "metadata": {
        "id": "thEnoinqeU_f"
      },
      "source": [
        ""
      ]
    }
  ]
}